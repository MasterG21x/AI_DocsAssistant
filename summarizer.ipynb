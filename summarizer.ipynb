{
 "cells": [
  {
   "cell_type": "code",
   "execution_count": 2,
   "id": "f65e6ddc",
   "metadata": {},
   "outputs": [],
   "source": [
    "from langchain.llms import Ollama\n",
    "from pathlib import Path\n",
    "from langchain.chains.summarize import load_summarize_chain\n",
    "from langchain.text_splitter import RecursiveCharacterTextSplitter"
   ]
  },
  {
   "cell_type": "markdown",
   "id": "af31f496",
   "metadata": {},
   "source": [
    "1# Methods for exctracting files"
   ]
  },
  {
   "cell_type": "code",
   "execution_count": 3,
   "id": "87de9e05",
   "metadata": {},
   "outputs": [],
   "source": [
    "from docx import Document\n",
    "import pdfplumber\n",
    "\n",
    "def extract_text_from_docx(file):\n",
    "    doc = Document(file)\n",
    "    text = \"\\n\".join([paragraph.text for paragraph in doc.paragraphs])\n",
    "    return text\n",
    "\n",
    "def extract_text_from_pdf(file):\n",
    "    with pdfplumber.open(file) as pdf:\n",
    "        text = \"\"\n",
    "        for page in pdf.pages:\n",
    "            text += page.extract_text()\n",
    "        return text\n"
   ]
  },
  {
   "cell_type": "code",
   "execution_count": 4,
   "id": "f8b06401",
   "metadata": {},
   "outputs": [],
   "source": [
    "import torch"
   ]
  },
  {
   "cell_type": "markdown",
   "id": "15823003",
   "metadata": {},
   "source": [
    "2# Model Initialize"
   ]
  },
  {
   "cell_type": "code",
   "execution_count": 5,
   "id": "380d171a",
   "metadata": {},
   "outputs": [],
   "source": [
    "def initialize_model(model_name, temperature=0):\n",
    "    llm = Ollama(model=model_name, temperature=temperature, top_p=0.9)\n",
    "    return llm"
   ]
  },
  {
   "cell_type": "markdown",
   "id": "b0e4f7f6",
   "metadata": {},
   "source": [
    "3# Text processing"
   ]
  },
  {
   "cell_type": "code",
   "execution_count": 6,
   "id": "69e3219a",
   "metadata": {},
   "outputs": [],
   "source": [
    "def split_text(text, chunk_size=5000):\n",
    "    text_splitter = RecursiveCharacterTextSplitter(separators=[\"\\n\\n\", \"\\n\", \" \", \"\"], chunk_size=chunk_size, chunk_overlap=20)\n",
    "    chunks = text_splitter.create_documents([text])\n",
    "    return chunks"
   ]
  },
  {
   "cell_type": "code",
   "execution_count": 7,
   "id": "ba6d362c",
   "metadata": {},
   "outputs": [],
   "source": [
    "long_text = Path('test.txt')\n",
    "full_context = long_text.read_text('utf-8')"
   ]
  },
  {
   "cell_type": "code",
   "execution_count": 8,
   "id": "024e4de1",
   "metadata": {},
   "outputs": [],
   "source": [
    "chunked_text = split_text(full_context)"
   ]
  },
  {
   "cell_type": "code",
   "execution_count": 9,
   "id": "f3164a3e",
   "metadata": {},
   "outputs": [
    {
     "name": "stderr",
     "output_type": "stream",
     "text": [
      "/tmp/ipykernel_17177/2414695983.py:2: LangChainDeprecationWarning: The class `Ollama` was deprecated in LangChain 0.3.1 and will be removed in 1.0.0. An updated version of the class exists in the :class:`~langchain-ollama package and should be used instead. To use it run `pip install -U :class:`~langchain-ollama` and import as `from :class:`~langchain_ollama import OllamaLLM``.\n",
      "  llm = Ollama(model=model_name, temperature=temperature, top_p=0.9)\n"
     ]
    }
   ],
   "source": [
    "llm = initialize_model(\"llama3.1:8b\")"
   ]
  },
  {
   "cell_type": "code",
   "execution_count": 10,
   "id": "8db82302",
   "metadata": {},
   "outputs": [
    {
     "data": {
      "text/plain": [
       "80"
      ]
     },
     "execution_count": 10,
     "metadata": {},
     "output_type": "execute_result"
    }
   ],
   "source": [
    "len(chunked_text)"
   ]
  },
  {
   "cell_type": "code",
   "execution_count": 11,
   "id": "6cee334d",
   "metadata": {},
   "outputs": [
    {
     "name": "stderr",
     "output_type": "stream",
     "text": [
      "/home/master_g/projects/ollama/langchain_ollama/lib/python3.12/site-packages/tqdm/auto.py:21: TqdmWarning: IProgress not found. Please update jupyter and ipywidgets. See https://ipywidgets.readthedocs.io/en/stable/user_install.html\n",
      "  from .autonotebook import tqdm as notebook_tqdm\n",
      "Token indices sequence length is longer than the specified maximum sequence length for this model (1080 > 1024). Running this sequence through the model will result in indexing errors\n"
     ]
    },
    {
     "data": {
      "text/plain": [
       "1080"
      ]
     },
     "execution_count": 11,
     "metadata": {},
     "output_type": "execute_result"
    }
   ],
   "source": [
    "llm.get_num_tokens(chunked_text[0].page_content)"
   ]
  },
  {
   "cell_type": "markdown",
   "id": "d44e7196",
   "metadata": {},
   "source": [
    "For bigger documents "
   ]
  },
  {
   "cell_type": "code",
   "execution_count": 12,
   "id": "284c2b7b",
   "metadata": {},
   "outputs": [],
   "source": [
    "from langchain.embeddings import OllamaEmbeddings"
   ]
  },
  {
   "cell_type": "code",
   "execution_count": 13,
   "id": "7ca798da",
   "metadata": {},
   "outputs": [],
   "source": [
    "from sklearn.cluster import KMeans\n",
    "import numpy as np\n",
    "import matplotlib.pyplot as plt \n",
    "from sklearn.manifold import TSNE"
   ]
  },
  {
   "cell_type": "markdown",
   "id": "bee0a96a",
   "metadata": {},
   "source": [
    "Dynamic clustering with elbow method and silhouette"
   ]
  },
  {
   "cell_type": "code",
   "execution_count": 14,
   "id": "9613448a",
   "metadata": {},
   "outputs": [],
   "source": [
    "from sklearn.metrics import silhouette_score \n",
    "import umap\n",
    "import hdbscan\n",
    "from sklearn.metrics import pairwise_distances"
   ]
  },
  {
   "cell_type": "code",
   "execution_count": null,
   "id": "c4b5ebc9",
   "metadata": {},
   "outputs": [],
   "source": [
    "def find_optimal_cluster(vectors, max_cluster):\n",
    "    silhouette_scores = []\n",
    "    for k in range(2, max_cluster+1):\n",
    "        kmeans = KMeans(n_clusters=k, random_state=42)\n",
    "        cluster_labels = kmeans.fit_predict(vectors)\n",
    "        silhouette_avg = silhouette_score(vectors, cluster_labels)\n",
    "        silhouette_scores.append(silhouette_avg)\n",
    "    return silhouette_scores"
   ]
  },
  {
   "cell_type": "code",
   "execution_count": 17,
   "id": "416bade2",
   "metadata": {},
   "outputs": [],
   "source": [
    "embeddings = OllamaEmbeddings(model=\"llama3.1:8b\")\n",
    "embeddings_vectors = embeddings.embed_documents(chunked_text)\n",
    "kmeans = KMeans(n_clusters=10, random_state=42).fit(embeddings_vectors)"
   ]
  },
  {
   "cell_type": "code",
   "execution_count": 18,
   "id": "760e813f",
   "metadata": {},
   "outputs": [
    {
     "data": {
      "text/plain": [
       "array([4, 8, 5, 5, 5, 5, 3, 1, 2, 6, 1, 4, 1, 7, 5, 1, 1, 3, 1, 5, 5, 1,\n",
       "       5, 5, 1, 5, 1, 1, 1, 0, 1, 1, 3, 5, 1, 3, 5, 2, 5, 1, 1, 3, 5, 0,\n",
       "       1, 5, 1, 3, 3, 4, 3, 3, 1, 5, 5, 1, 3, 5, 1, 1, 0, 1, 5, 1, 5, 5,\n",
       "       7, 5, 5, 5, 3, 0, 8, 1, 1, 1, 1, 9, 9, 9], dtype=int32)"
      ]
     },
     "execution_count": 18,
     "metadata": {},
     "output_type": "execute_result"
    }
   ],
   "source": [
    "kmeans.labels_"
   ]
  },
  {
   "cell_type": "code",
   "execution_count": null,
   "id": "a40fe9be",
   "metadata": {},
   "outputs": [],
   "source": []
  },
  {
   "cell_type": "code",
   "execution_count": 19,
   "id": "63d46ad7",
   "metadata": {},
   "outputs": [],
   "source": [
    "embeddings_vectors = np.array(embeddings_vectors)"
   ]
  },
  {
   "cell_type": "code",
   "execution_count": 20,
   "id": "57a12562",
   "metadata": {},
   "outputs": [],
   "source": [
    "tsne = TSNE(n_components=2, random_state=42)\n",
    "reduced_data = tsne.fit_transform(embeddings_vectors)"
   ]
  },
  {
   "cell_type": "code",
   "execution_count": 25,
   "id": "ad3b5eb1",
   "metadata": {},
   "outputs": [
    {
     "data": {
      "image/png": "[encoded data removed]",
      "text/plain": [
       "<Figure size 640x480 with 1 Axes>"
      ]
     },
     "metadata": {},
     "output_type": "display_data"
    }
   ],
   "source": [
    "\n",
    "plt.scatter(reduced_data[:, 0], reduced_data[:, 1], c=kmeans.labels_,    cmap='plasma', \n",
    "    edgecolor='k',   \n",
    "    alpha=0.8       \n",
    ")\n",
    "plt.xlabel('Dim 1')\n",
    "plt.ylabel('Dim 2')\n",
    "plt.title('Embeddings Clustered')\n",
    "plt.show()"
   ]
  },
  {
   "cell_type": "code",
   "execution_count": null,
   "id": "ad9e2187",
   "metadata": {},
   "outputs": [],
   "source": [
    "closest = []\n",
    "for i in range(10):\n",
    "    distances = np.linalg.norm(embeddings_vectors - kmeans.cluster_centers_[i], axis=1)\n",
    "    \n",
    "    closest_index = np.argmin(distances)\n",
    "\n",
    "    closest.append(closest_index)"
   ]
  },
  {
   "cell_type": "code",
   "execution_count": null,
   "id": "b8629a57",
   "metadata": {},
   "outputs": [
    {
     "data": {
      "text/plain": [
       "[np.int64(1),\n",
       " np.int64(8),\n",
       " np.int64(9),\n",
       " np.int64(11),\n",
       " np.int64(13),\n",
       " np.int64(22),\n",
       " np.int64(29),\n",
       " np.int64(59),\n",
       " np.int64(70),\n",
       " np.int64(78)]"
      ]
     },
     "execution_count": 102,
     "metadata": {},
     "output_type": "execute_result"
    }
   ],
   "source": [
    "selected = sorted(closest)\n",
    "selected"
   ]
  },
  {
   "cell_type": "code",
   "execution_count": null,
   "id": "a5e28946",
   "metadata": {},
   "outputs": [],
   "source": [
    "from langchain.schema import Document\n",
    "from langchain.prompts import PromptTemplate"
   ]
  },
  {
   "cell_type": "markdown",
   "id": "9fc24a66",
   "metadata": {},
   "source": [
    "Test function"
   ]
  },
  {
   "cell_type": "markdown",
   "id": "4899aa54",
   "metadata": {},
   "source": []
  },
  {
   "cell_type": "code",
   "execution_count": null,
   "id": "95d89a78",
   "metadata": {},
   "outputs": [],
   "source": [
    "map_prompt = \"\"\"\n",
    "Otrzymasz fragment książki. Ten fragment będzie zamknięty w potrójnych znakach odwrotnego apostrofu (```)\n",
    "Twoim zadaniem jest stworzenie podsumowania tego fragmentu, tak aby czytelnik miał pełne zrozumienie tego, co się wydarzyło.\n",
    "Twoja odpowiedź powinna mieć co najmniej trzy akapity i w pełni oddawać treść przedstawionego fragmentu.\n",
    "\n",
    "```{text}```\n",
    "PEŁNE PODSUMOWANIE:\n",
    "\"\"\"\n",
    "map_prompt_template = PromptTemplate(template=map_prompt, input_variables=[\"text\"])\n",
    "def create_summmary(text):\n",
    "    if len(chunked_text) < 2:\n",
    "        prompt = f'Podsumuj tekst w jednym akapicie: {text}'\n",
    "        response = llm(prompt)\n",
    "        print(response)\n",
    "    elif len(chunked_text) < 20: \n",
    "        summary_chain = load_summarize_chain(llm, chain_type='map_reduce')\n",
    "        response = summary_chain.run(chunked_text)\n",
    "        print(response)\n",
    "    else:\n",
    "        embeddings = OllamaEmbeddings(model=\"llama3.1:8b\")\n",
    "        embeddings_vectors = embeddings.embed_documents(chunked_text)\n",
    "        n_clusters = 10\n",
    "        kmeans = KMeans(n_clusters=n_clusters, random_state=42).fit(embeddings_vectors)\n",
    "        closest = []\n",
    "        for i in range(n_clusters):\n",
    "            distances = np.linalg.norm(embeddings_vectors - kmeans.cluster_centers_[i], axis=1)\n",
    "            \n",
    "            closest_index = np.argmin(distances)\n",
    "\n",
    "            closest.append(closest_index)\n",
    "        selected = [int(x) for x in sorted(closest)]\n",
    "        selected_docs = [chunked_text[doc] for doc in selected]\n",
    "        summaries_list = []\n",
    "        map_chain = load_summarize_chain(llm=llm,\n",
    "                             chain_type=\"stuff\",\n",
    "                             prompt=map_prompt_template)\n",
    "        for doc in selected_docs:\n",
    "            chunk_summary = map_chain.run([doc])\n",
    "            # Append that summary to your list\n",
    "            summaries_list.append(chunk_summary) \n",
    "        summaries = \"\\n\".join(summaries_list)\n",
    "        summaries = Document(page_content=summaries)\n",
    "        print (f\"Your total summary has {llm.get_num_tokens(summaries.page_content)} tokens\")"
   ]
  },
  {
   "cell_type": "code",
   "execution_count": null,
   "id": "a24c36a0",
   "metadata": {},
   "outputs": [
    {
     "name": "stderr",
     "output_type": "stream",
     "text": [
      "/tmp/ipykernel_818/220557681.py:38: LangChainDeprecationWarning: The method `Chain.run` was deprecated in langchain 0.1.0 and will be removed in 1.0. Use :meth:`~invoke` instead.\n",
      "  chunk_summary = map_chain.run([doc])\n"
     ]
    },
    {
     "name": "stdout",
     "output_type": "stream",
     "text": [
      "Your total summary has 7430 tokens\n"
     ]
    }
   ],
   "source": [
    "create_summmary(chunked_text)"
   ]
  },
  {
   "cell_type": "code",
   "execution_count": null,
   "id": "ea76c1f7",
   "metadata": {},
   "outputs": [],
   "source": []
  }
 ],
 "metadata": {
  "kernelspec": {
   "display_name": "langchain_ollama",
   "language": "python",
   "name": "python3"
  },
  "language_info": {
   "codemirror_mode": {
    "name": "ipython",
    "version": 3
   },
   "file_extension": ".py",
   "mimetype": "text/x-python",
   "name": "python",
   "nbconvert_exporter": "python",
   "pygments_lexer": "ipython3",
   "version": "3.12.3"
  }
 },
 "nbformat": 4,
 "nbformat_minor": 5
}
